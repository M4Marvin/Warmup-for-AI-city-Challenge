{
 "cells": [
  {
   "cell_type": "code",
   "execution_count": 10,
   "metadata": {},
   "outputs": [],
   "source": [
    "def ass1(arr):\n",
    "    SArr = sorted(arr)\n",
    "    N = len(arr)\n",
    "    for i in range(N):\n",
    "        if SArr [i] != arr[i]:\n",
    "            print ('The smallest unsorted element is ', SArr[i],\"       The index is \", i)\n",
    "            break\n",
    "    for i in range(N-1,-1,-1):\n",
    "        if SArr [i] != arr[i]:\n",
    "            print ('The largest unsorted element is ', SArr[i],\"        The index is \", i)\n",
    "            break        \n",
    "            "
   ]
  },
  {
   "cell_type": "code",
   "execution_count": 12,
   "metadata": {},
   "outputs": [
    {
     "name": "stdout",
     "output_type": "stream",
     "text": [
      "The smallest unsorted element is  2        The index is  1\n",
      "The largest unsorted element is  8         The index is  5\n"
     ]
    }
   ],
   "source": [
    "arr=[1,3,5,7,8,2]\n",
    "ass1(arr)"
   ]
  },
  {
   "cell_type": "code",
   "execution_count": 35,
   "metadata": {},
   "outputs": [],
   "source": [
    "def ass2(arr , target):\n",
    "    arr = sorted(arr)\n",
    "    n=len(arr)\n",
    "    for i in range(n):\n",
    "        ComplInd = binarySearch(arr,i+1,n-1,target-arr[i]) \n",
    "        if(ComplInd != -1):\n",
    "            print (\"[\",arr[i],\",\",arr[ComplInd],\"]\")\n",
    "            return\n",
    "        \n",
    "    \n",
    "    "
   ]
  },
  {
   "cell_type": "code",
   "execution_count": 36,
   "metadata": {},
   "outputs": [],
   "source": [
    "def binarySearch (arr, l, r, x): \n",
    "  \n",
    "    # Check base case \n",
    "    if r >= l: \n",
    "  \n",
    "        mid = l + (r - l)/2\n",
    "        mid = int (mid)\n",
    "        # If element is present at the middle itself \n",
    "        if arr[mid] == x: \n",
    "            return mid \n",
    "          \n",
    "        # If element is smaller than mid, then it can only \n",
    "        # be present in left subarray \n",
    "        elif arr[mid] > x: \n",
    "            return binarySearch(arr, l, mid-1, x) \n",
    "  \n",
    "        # Else the element can only be present in right subarray \n",
    "        else: \n",
    "            return binarySearch(arr, mid+1, r, x) \n",
    "  \n",
    "    else: \n",
    "        # Element is not present in the array \n",
    "        return -1"
   ]
  },
  {
   "cell_type": "code",
   "execution_count": 37,
   "metadata": {},
   "outputs": [
    {
     "name": "stdout",
     "output_type": "stream",
     "text": [
      "[ 6 , 12 ]\n"
     ]
    }
   ],
   "source": [
    "arr = [1,3,4,6,12,9]\n",
    "target = 18\n",
    "ass2(arr,target)"
   ]
  },
  {
   "cell_type": "code",
   "execution_count": null,
   "metadata": {},
   "outputs": [],
   "source": []
  }
 ],
 "metadata": {
  "kernelspec": {
   "display_name": "Python 3",
   "language": "python",
   "name": "python3"
  },
  "language_info": {
   "codemirror_mode": {
    "name": "ipython",
    "version": 3
   },
   "file_extension": ".py",
   "mimetype": "text/x-python",
   "name": "python",
   "nbconvert_exporter": "python",
   "pygments_lexer": "ipython3",
   "version": "3.7.3"
  }
 },
 "nbformat": 4,
 "nbformat_minor": 2
}
